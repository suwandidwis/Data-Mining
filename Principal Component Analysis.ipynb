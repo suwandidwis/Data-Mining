{
 "cells": [
  {
   "cell_type": "code",
   "execution_count": 1,
   "metadata": {},
   "outputs": [],
   "source": [
    "import pandas as pd"
   ]
  },
  {
   "cell_type": "code",
   "execution_count": 10,
   "metadata": {},
   "outputs": [
    {
     "data": {
      "text/html": [
       "<div>\n",
       "<style scoped>\n",
       "    .dataframe tbody tr th:only-of-type {\n",
       "        vertical-align: middle;\n",
       "    }\n",
       "\n",
       "    .dataframe tbody tr th {\n",
       "        vertical-align: top;\n",
       "    }\n",
       "\n",
       "    .dataframe thead th {\n",
       "        text-align: right;\n",
       "    }\n",
       "</style>\n",
       "<table border=\"1\" class=\"dataframe\">\n",
       "  <thead>\n",
       "    <tr style=\"text-align: right;\">\n",
       "      <th></th>\n",
       "      <th>fixed acidity</th>\n",
       "      <th>volatile acidity</th>\n",
       "      <th>citric acid</th>\n",
       "      <th>residual sugar</th>\n",
       "      <th>chlorides</th>\n",
       "      <th>free sulfur dioxide</th>\n",
       "      <th>total sulfur dioxide</th>\n",
       "      <th>density</th>\n",
       "      <th>pH</th>\n",
       "      <th>sulphates</th>\n",
       "      <th>alcohol</th>\n",
       "      <th>quality</th>\n",
       "    </tr>\n",
       "  </thead>\n",
       "  <tbody>\n",
       "    <tr>\n",
       "      <th>0</th>\n",
       "      <td>7.4</td>\n",
       "      <td>0.70</td>\n",
       "      <td>0.00</td>\n",
       "      <td>1.9</td>\n",
       "      <td>0.076</td>\n",
       "      <td>11.0</td>\n",
       "      <td>34.0</td>\n",
       "      <td>0.9978</td>\n",
       "      <td>3.51</td>\n",
       "      <td>0.56</td>\n",
       "      <td>9.4</td>\n",
       "      <td>5</td>\n",
       "    </tr>\n",
       "    <tr>\n",
       "      <th>1</th>\n",
       "      <td>7.8</td>\n",
       "      <td>0.88</td>\n",
       "      <td>0.00</td>\n",
       "      <td>2.6</td>\n",
       "      <td>0.098</td>\n",
       "      <td>25.0</td>\n",
       "      <td>67.0</td>\n",
       "      <td>0.9968</td>\n",
       "      <td>3.20</td>\n",
       "      <td>0.68</td>\n",
       "      <td>9.8</td>\n",
       "      <td>5</td>\n",
       "    </tr>\n",
       "    <tr>\n",
       "      <th>2</th>\n",
       "      <td>7.8</td>\n",
       "      <td>0.76</td>\n",
       "      <td>0.04</td>\n",
       "      <td>2.3</td>\n",
       "      <td>0.092</td>\n",
       "      <td>15.0</td>\n",
       "      <td>54.0</td>\n",
       "      <td>0.9970</td>\n",
       "      <td>3.26</td>\n",
       "      <td>0.65</td>\n",
       "      <td>9.8</td>\n",
       "      <td>5</td>\n",
       "    </tr>\n",
       "    <tr>\n",
       "      <th>3</th>\n",
       "      <td>11.2</td>\n",
       "      <td>0.28</td>\n",
       "      <td>0.56</td>\n",
       "      <td>1.9</td>\n",
       "      <td>0.075</td>\n",
       "      <td>17.0</td>\n",
       "      <td>60.0</td>\n",
       "      <td>0.9980</td>\n",
       "      <td>3.16</td>\n",
       "      <td>0.58</td>\n",
       "      <td>9.8</td>\n",
       "      <td>6</td>\n",
       "    </tr>\n",
       "    <tr>\n",
       "      <th>4</th>\n",
       "      <td>7.4</td>\n",
       "      <td>0.70</td>\n",
       "      <td>0.00</td>\n",
       "      <td>1.9</td>\n",
       "      <td>0.076</td>\n",
       "      <td>11.0</td>\n",
       "      <td>34.0</td>\n",
       "      <td>0.9978</td>\n",
       "      <td>3.51</td>\n",
       "      <td>0.56</td>\n",
       "      <td>9.4</td>\n",
       "      <td>5</td>\n",
       "    </tr>\n",
       "  </tbody>\n",
       "</table>\n",
       "</div>"
      ],
      "text/plain": [
       "   fixed acidity  volatile acidity  citric acid  residual sugar  chlorides  \\\n",
       "0            7.4              0.70         0.00             1.9      0.076   \n",
       "1            7.8              0.88         0.00             2.6      0.098   \n",
       "2            7.8              0.76         0.04             2.3      0.092   \n",
       "3           11.2              0.28         0.56             1.9      0.075   \n",
       "4            7.4              0.70         0.00             1.9      0.076   \n",
       "\n",
       "   free sulfur dioxide  total sulfur dioxide  density    pH  sulphates  \\\n",
       "0                 11.0                  34.0   0.9978  3.51       0.56   \n",
       "1                 25.0                  67.0   0.9968  3.20       0.68   \n",
       "2                 15.0                  54.0   0.9970  3.26       0.65   \n",
       "3                 17.0                  60.0   0.9980  3.16       0.58   \n",
       "4                 11.0                  34.0   0.9978  3.51       0.56   \n",
       "\n",
       "   alcohol  quality  \n",
       "0      9.4        5  \n",
       "1      9.8        5  \n",
       "2      9.8        5  \n",
       "3      9.8        6  \n",
       "4      9.4        5  "
      ]
     },
     "execution_count": 10,
     "metadata": {},
     "output_type": "execute_result"
    }
   ],
   "source": [
    "df = pd.read_csv('winequality-red.csv', sep=';')\n",
    "\n",
    "df.head()"
   ]
  },
  {
   "cell_type": "code",
   "execution_count": 12,
   "metadata": {},
   "outputs": [
    {
     "data": {
      "text/html": [
       "<div>\n",
       "<style scoped>\n",
       "    .dataframe tbody tr th:only-of-type {\n",
       "        vertical-align: middle;\n",
       "    }\n",
       "\n",
       "    .dataframe tbody tr th {\n",
       "        vertical-align: top;\n",
       "    }\n",
       "\n",
       "    .dataframe thead th {\n",
       "        text-align: right;\n",
       "    }\n",
       "</style>\n",
       "<table border=\"1\" class=\"dataframe\">\n",
       "  <thead>\n",
       "    <tr style=\"text-align: right;\">\n",
       "      <th></th>\n",
       "      <th>fixed acidity</th>\n",
       "      <th>volatile acidity</th>\n",
       "      <th>citric acid</th>\n",
       "      <th>residual sugar</th>\n",
       "      <th>chlorides</th>\n",
       "      <th>free sulfur dioxide</th>\n",
       "      <th>total sulfur dioxide</th>\n",
       "      <th>density</th>\n",
       "      <th>pH</th>\n",
       "      <th>sulphates</th>\n",
       "      <th>alcohol</th>\n",
       "    </tr>\n",
       "  </thead>\n",
       "  <tbody>\n",
       "    <tr>\n",
       "      <th>0</th>\n",
       "      <td>7.4</td>\n",
       "      <td>0.70</td>\n",
       "      <td>0.00</td>\n",
       "      <td>1.9</td>\n",
       "      <td>0.076</td>\n",
       "      <td>11.0</td>\n",
       "      <td>34.0</td>\n",
       "      <td>0.9978</td>\n",
       "      <td>3.51</td>\n",
       "      <td>0.56</td>\n",
       "      <td>9.4</td>\n",
       "    </tr>\n",
       "    <tr>\n",
       "      <th>1</th>\n",
       "      <td>7.8</td>\n",
       "      <td>0.88</td>\n",
       "      <td>0.00</td>\n",
       "      <td>2.6</td>\n",
       "      <td>0.098</td>\n",
       "      <td>25.0</td>\n",
       "      <td>67.0</td>\n",
       "      <td>0.9968</td>\n",
       "      <td>3.20</td>\n",
       "      <td>0.68</td>\n",
       "      <td>9.8</td>\n",
       "    </tr>\n",
       "    <tr>\n",
       "      <th>2</th>\n",
       "      <td>7.8</td>\n",
       "      <td>0.76</td>\n",
       "      <td>0.04</td>\n",
       "      <td>2.3</td>\n",
       "      <td>0.092</td>\n",
       "      <td>15.0</td>\n",
       "      <td>54.0</td>\n",
       "      <td>0.9970</td>\n",
       "      <td>3.26</td>\n",
       "      <td>0.65</td>\n",
       "      <td>9.8</td>\n",
       "    </tr>\n",
       "    <tr>\n",
       "      <th>3</th>\n",
       "      <td>11.2</td>\n",
       "      <td>0.28</td>\n",
       "      <td>0.56</td>\n",
       "      <td>1.9</td>\n",
       "      <td>0.075</td>\n",
       "      <td>17.0</td>\n",
       "      <td>60.0</td>\n",
       "      <td>0.9980</td>\n",
       "      <td>3.16</td>\n",
       "      <td>0.58</td>\n",
       "      <td>9.8</td>\n",
       "    </tr>\n",
       "    <tr>\n",
       "      <th>4</th>\n",
       "      <td>7.4</td>\n",
       "      <td>0.70</td>\n",
       "      <td>0.00</td>\n",
       "      <td>1.9</td>\n",
       "      <td>0.076</td>\n",
       "      <td>11.0</td>\n",
       "      <td>34.0</td>\n",
       "      <td>0.9978</td>\n",
       "      <td>3.51</td>\n",
       "      <td>0.56</td>\n",
       "      <td>9.4</td>\n",
       "    </tr>\n",
       "  </tbody>\n",
       "</table>\n",
       "</div>"
      ],
      "text/plain": [
       "   fixed acidity  volatile acidity  citric acid  residual sugar  chlorides  \\\n",
       "0            7.4              0.70         0.00             1.9      0.076   \n",
       "1            7.8              0.88         0.00             2.6      0.098   \n",
       "2            7.8              0.76         0.04             2.3      0.092   \n",
       "3           11.2              0.28         0.56             1.9      0.075   \n",
       "4            7.4              0.70         0.00             1.9      0.076   \n",
       "\n",
       "   free sulfur dioxide  total sulfur dioxide  density    pH  sulphates  \\\n",
       "0                 11.0                  34.0   0.9978  3.51       0.56   \n",
       "1                 25.0                  67.0   0.9968  3.20       0.68   \n",
       "2                 15.0                  54.0   0.9970  3.26       0.65   \n",
       "3                 17.0                  60.0   0.9980  3.16       0.58   \n",
       "4                 11.0                  34.0   0.9978  3.51       0.56   \n",
       "\n",
       "   alcohol  \n",
       "0      9.4  \n",
       "1      9.8  \n",
       "2      9.8  \n",
       "3      9.8  \n",
       "4      9.4  "
      ]
     },
     "execution_count": 12,
     "metadata": {},
     "output_type": "execute_result"
    }
   ],
   "source": [
    "df = df.drop(columns='quality')\n",
    "\n",
    "df.head()"
   ]
  },
  {
   "cell_type": "code",
   "execution_count": 13,
   "metadata": {},
   "outputs": [],
   "source": [
    "from sklearn.preprocessing import StandardScaler"
   ]
  },
  {
   "cell_type": "code",
   "execution_count": 14,
   "metadata": {},
   "outputs": [],
   "source": [
    "# Standardizing the features\n",
    "x = StandardScaler().fit_transform(df)"
   ]
  },
  {
   "cell_type": "code",
   "execution_count": 16,
   "metadata": {},
   "outputs": [
    {
     "name": "stdout",
     "output_type": "stream",
     "text": [
      "[[-0.52835961  0.96187667 -1.39147228 ...  1.28864292 -0.57920652\n",
      "  -0.96024611]\n",
      " [-0.29854743  1.96744245 -1.39147228 ... -0.7199333   0.1289504\n",
      "  -0.58477711]\n",
      " [-0.29854743  1.29706527 -1.18607043 ... -0.33117661 -0.04808883\n",
      "  -0.58477711]\n",
      " ...\n",
      " [-1.1603431  -0.09955388 -0.72391627 ...  0.70550789  0.54204194\n",
      "   0.54162988]\n",
      " [-1.39015528  0.65462046 -0.77526673 ...  1.6773996   0.30598963\n",
      "  -0.20930812]\n",
      " [-1.33270223 -1.21684919  1.02199944 ...  0.51112954  0.01092425\n",
      "   0.54162988]]\n"
     ]
    }
   ],
   "source": [
    "print(x)"
   ]
  },
  {
   "cell_type": "code",
   "execution_count": 17,
   "metadata": {},
   "outputs": [],
   "source": [
    "import numpy as np"
   ]
  },
  {
   "cell_type": "code",
   "execution_count": 54,
   "metadata": {},
   "outputs": [],
   "source": [
    "xt = x.T\n",
    "\n",
    "cov_mat = np.cov(xt)\n",
    "\n",
    "cov_mat;"
   ]
  },
  {
   "cell_type": "code",
   "execution_count": 21,
   "metadata": {},
   "outputs": [
    {
     "data": {
      "text/plain": [
       "array([[ 1.        , -0.25613089,  0.67170343,  0.11477672,  0.09370519,\n",
       "        -0.15379419, -0.11318144,  0.66804729, -0.68297819,  0.18300566,\n",
       "        -0.06166827],\n",
       "       [-0.25613089,  1.        , -0.55249568,  0.00191788,  0.06129777,\n",
       "        -0.01050383,  0.07647   ,  0.02202623,  0.23493729, -0.26098669,\n",
       "        -0.20228803],\n",
       "       [ 0.67170343, -0.55249568,  1.        ,  0.14357716,  0.20382291,\n",
       "        -0.06097813,  0.03553302,  0.36494718, -0.54190414,  0.31277004,\n",
       "         0.10990325],\n",
       "       [ 0.11477672,  0.00191788,  0.14357716,  1.        ,  0.05560954,\n",
       "         0.187049  ,  0.20302788,  0.35528337, -0.08565242,  0.00552712,\n",
       "         0.04207544],\n",
       "       [ 0.09370519,  0.06129777,  0.20382291,  0.05560954,  1.        ,\n",
       "         0.00556215,  0.04740047,  0.20063233, -0.26502613,  0.37126048,\n",
       "        -0.22114054],\n",
       "       [-0.15379419, -0.01050383, -0.06097813,  0.187049  ,  0.00556215,\n",
       "         1.        ,  0.66766645, -0.02194583,  0.0703775 ,  0.05165757,\n",
       "        -0.06940835],\n",
       "       [-0.11318144,  0.07647   ,  0.03553302,  0.20302788,  0.04740047,\n",
       "         0.66766645,  1.        ,  0.07126948, -0.06649456,  0.04294684,\n",
       "        -0.20565394],\n",
       "       [ 0.66804729,  0.02202623,  0.36494718,  0.35528337,  0.20063233,\n",
       "        -0.02194583,  0.07126948,  1.        , -0.34169933,  0.14850641,\n",
       "        -0.49617977],\n",
       "       [-0.68297819,  0.23493729, -0.54190414, -0.08565242, -0.26502613,\n",
       "         0.0703775 , -0.06649456, -0.34169933,  1.        , -0.1966476 ,\n",
       "         0.20563251],\n",
       "       [ 0.18300566, -0.26098669,  0.31277004,  0.00552712,  0.37126048,\n",
       "         0.05165757,  0.04294684,  0.14850641, -0.1966476 ,  1.        ,\n",
       "         0.09359475],\n",
       "       [-0.06166827, -0.20228803,  0.10990325,  0.04207544, -0.22114054,\n",
       "        -0.06940835, -0.20565394, -0.49617977,  0.20563251,  0.09359475,\n",
       "         1.        ]])"
      ]
     },
     "execution_count": 21,
     "metadata": {},
     "output_type": "execute_result"
    }
   ],
   "source": [
    "corr_mat = np.corrcoef(xt)\n",
    "\n",
    "corr_mat"
   ]
  },
  {
   "cell_type": "code",
   "execution_count": 29,
   "metadata": {},
   "outputs": [],
   "source": [
    "eig = np.linalg.eig(corr_mat)\n",
    "\n",
    "eig_vals = eig[0]\n",
    "eig_vecs = eig[1]"
   ]
  },
  {
   "cell_type": "code",
   "execution_count": 38,
   "metadata": {},
   "outputs": [],
   "source": [
    "eig_vals_sorted = -np.sort(-eig_vals)\n",
    "eig_vecs_sorted = eig_vecs[:, eig_vals.argsort()[::-1]]"
   ]
  },
  {
   "cell_type": "code",
   "execution_count": 53,
   "metadata": {},
   "outputs": [],
   "source": [
    "eig_vals;"
   ]
  },
  {
   "cell_type": "code",
   "execution_count": 40,
   "metadata": {},
   "outputs": [
    {
     "data": {
      "text/plain": [
       "array([3.09913244, 1.92590969, 1.55054349, 1.21323253, 0.95929207,\n",
       "       0.65960826, 0.58379122, 0.4229567 , 0.34464212, 0.18133317,\n",
       "       0.05955831])"
      ]
     },
     "execution_count": 40,
     "metadata": {},
     "output_type": "execute_result"
    }
   ],
   "source": [
    "eig_vals_sorted"
   ]
  },
  {
   "cell_type": "code",
   "execution_count": 52,
   "metadata": {},
   "outputs": [],
   "source": [
    "eig_vecs;"
   ]
  },
  {
   "cell_type": "code",
   "execution_count": 42,
   "metadata": {},
   "outputs": [
    {
     "data": {
      "text/plain": [
       "array([[ 0.48931422, -0.11050274, -0.12330157, -0.22961737, -0.08261366,\n",
       "         0.10147858, -0.35022736, -0.17759545,  0.19402091, -0.24952314,\n",
       "        -0.63969145],\n",
       "       [-0.23858436,  0.27493048, -0.44996253,  0.07895978,  0.21873452,\n",
       "         0.41144893, -0.5337351 , -0.07877531, -0.1291103 ,  0.36592473,\n",
       "        -0.0023886 ],\n",
       "       [ 0.46363166, -0.15179136,  0.23824707, -0.07941826, -0.05857268,\n",
       "         0.06959338,  0.10549701, -0.37751558, -0.38144967,  0.62167708,\n",
       "         0.0709103 ],\n",
       "       [ 0.14610715,  0.27208024,  0.10128338, -0.37279256,  0.73214429,\n",
       "         0.04915555,  0.29066341,  0.29984469,  0.00752295,  0.09287208,\n",
       "        -0.18402996],\n",
       "       [ 0.21224658,  0.14805156, -0.09261383,  0.66619476,  0.2465009 ,\n",
       "         0.30433857,  0.37041337, -0.35700936,  0.11133867, -0.21767112,\n",
       "        -0.05306532],\n",
       "       [-0.03615752,  0.51356681,  0.42879287, -0.04353782, -0.15915198,\n",
       "        -0.01400021, -0.11659611, -0.2047805 ,  0.63540522,  0.24848326,\n",
       "         0.05142086],\n",
       "       [ 0.02357485,  0.56948696,  0.3224145 , -0.03457712, -0.22246456,\n",
       "         0.13630755, -0.09366237,  0.01903597, -0.59211589, -0.37075027,\n",
       "        -0.0687016 ],\n",
       "       [ 0.39535301,  0.23357549, -0.33887135, -0.17449976,  0.15707671,\n",
       "        -0.3911523 , -0.17048116, -0.23922267,  0.02071868, -0.23999012,\n",
       "         0.5673319 ],\n",
       "       [-0.43851962,  0.00671079,  0.05769735, -0.00378775,  0.26752977,\n",
       "        -0.52211645, -0.02513762, -0.56139075, -0.16774589, -0.0109696 ,\n",
       "        -0.3407109 ],\n",
       "       [ 0.24292133, -0.03755392,  0.27978615,  0.55087236,  0.22596222,\n",
       "        -0.38126343, -0.44746911,  0.37460432, -0.05836706,  0.11232046,\n",
       "        -0.06955538],\n",
       "       [-0.11323206, -0.38618096,  0.47167322, -0.12218109,  0.35068141,\n",
       "         0.36164504, -0.3276509 , -0.21762556,  0.03760311, -0.3030145 ,\n",
       "         0.31452591]])"
      ]
     },
     "execution_count": 42,
     "metadata": {},
     "output_type": "execute_result"
    }
   ],
   "source": [
    "eig_vecs_sorted"
   ]
  },
  {
   "cell_type": "code",
   "execution_count": 43,
   "metadata": {},
   "outputs": [
    {
     "data": {
      "text/plain": [
       "11.0"
      ]
     },
     "execution_count": 43,
     "metadata": {},
     "output_type": "execute_result"
    }
   ],
   "source": [
    "sum_eig_vals = np.sum(eig_vals_sorted)\n",
    "\n",
    "sum_eig_vals"
   ]
  },
  {
   "cell_type": "code",
   "execution_count": 45,
   "metadata": {},
   "outputs": [
    {
     "data": {
      "text/plain": [
       "0.9999999999999998"
      ]
     },
     "execution_count": 45,
     "metadata": {},
     "output_type": "execute_result"
    }
   ],
   "source": [
    "np.true_divide(eig_vals_sorted, sum_eig_vals)\n",
    "\n",
    "np.sum(np.true_divide(eig_vals_sorted, sum_eig_vals))"
   ]
  },
  {
   "cell_type": "code",
   "execution_count": 47,
   "metadata": {},
   "outputs": [
    {
     "data": {
      "text/plain": [
       "array([28.17393128, 17.50826991, 14.0958499 , 11.02938664,  8.72083701,\n",
       "        5.99643877,  5.3071929 ,  3.84506091,  3.13311015,  1.64848333,\n",
       "        0.5414392 ])"
      ]
     },
     "execution_count": 47,
     "metadata": {},
     "output_type": "execute_result"
    }
   ],
   "source": [
    "np.true_divide(eig_vals_sorted*100, sum_eig_vals)\n",
    "\n",
    "# np.sum(np.true_divide(eig_vals_sorted*100, sum_eig_vals))"
   ]
  },
  {
   "cell_type": "code",
   "execution_count": 48,
   "metadata": {},
   "outputs": [
    {
     "data": {
      "text/plain": [
       "array([ 28.17393128,  45.68220118,  59.77805108,  70.80743772,\n",
       "        79.52827474,  85.52471351,  90.83190641,  94.67696732,\n",
       "        97.81007747,  99.4585608 , 100.        ])"
      ]
     },
     "execution_count": 48,
     "metadata": {},
     "output_type": "execute_result"
    }
   ],
   "source": [
    "np.cumsum(np.true_divide(eig_vals_sorted*100, sum_eig_vals))"
   ]
  },
  {
   "cell_type": "code",
   "execution_count": 49,
   "metadata": {},
   "outputs": [],
   "source": [
    "from sklearn.decomposition import PCA\n",
    "\n",
    "pca = PCA(n_components=5)\n",
    "\n",
    "principalComponents = pca.fit_transform(x)\n",
    "\n",
    "principalDf = pd.DataFrame(data = principalComponents\n",
    "             , columns = ['principal component 1', 'principal component 2', 'principal component 3', 'principal component 4', 'principal component 5'])"
   ]
  },
  {
   "cell_type": "code",
   "execution_count": 51,
   "metadata": {},
   "outputs": [
    {
     "data": {
      "text/html": [
       "<div>\n",
       "<style scoped>\n",
       "    .dataframe tbody tr th:only-of-type {\n",
       "        vertical-align: middle;\n",
       "    }\n",
       "\n",
       "    .dataframe tbody tr th {\n",
       "        vertical-align: top;\n",
       "    }\n",
       "\n",
       "    .dataframe thead th {\n",
       "        text-align: right;\n",
       "    }\n",
       "</style>\n",
       "<table border=\"1\" class=\"dataframe\">\n",
       "  <thead>\n",
       "    <tr style=\"text-align: right;\">\n",
       "      <th></th>\n",
       "      <th>principal component 1</th>\n",
       "      <th>principal component 2</th>\n",
       "      <th>principal component 3</th>\n",
       "      <th>principal component 4</th>\n",
       "      <th>principal component 5</th>\n",
       "    </tr>\n",
       "  </thead>\n",
       "  <tbody>\n",
       "    <tr>\n",
       "      <th>0</th>\n",
       "      <td>-1.619530</td>\n",
       "      <td>0.450950</td>\n",
       "      <td>-1.774454</td>\n",
       "      <td>0.043740</td>\n",
       "      <td>0.067014</td>\n",
       "    </tr>\n",
       "    <tr>\n",
       "      <th>1</th>\n",
       "      <td>-0.799170</td>\n",
       "      <td>1.856553</td>\n",
       "      <td>-0.911690</td>\n",
       "      <td>0.548066</td>\n",
       "      <td>-0.018392</td>\n",
       "    </tr>\n",
       "    <tr>\n",
       "      <th>2</th>\n",
       "      <td>-0.748479</td>\n",
       "      <td>0.882039</td>\n",
       "      <td>-1.171394</td>\n",
       "      <td>0.411021</td>\n",
       "      <td>-0.043531</td>\n",
       "    </tr>\n",
       "    <tr>\n",
       "      <th>3</th>\n",
       "      <td>2.357673</td>\n",
       "      <td>-0.269976</td>\n",
       "      <td>0.243489</td>\n",
       "      <td>-0.928450</td>\n",
       "      <td>-1.499149</td>\n",
       "    </tr>\n",
       "    <tr>\n",
       "      <th>4</th>\n",
       "      <td>-1.619530</td>\n",
       "      <td>0.450950</td>\n",
       "      <td>-1.774454</td>\n",
       "      <td>0.043740</td>\n",
       "      <td>0.067014</td>\n",
       "    </tr>\n",
       "  </tbody>\n",
       "</table>\n",
       "</div>"
      ],
      "text/plain": [
       "   principal component 1  principal component 2  principal component 3  \\\n",
       "0              -1.619530               0.450950              -1.774454   \n",
       "1              -0.799170               1.856553              -0.911690   \n",
       "2              -0.748479               0.882039              -1.171394   \n",
       "3               2.357673              -0.269976               0.243489   \n",
       "4              -1.619530               0.450950              -1.774454   \n",
       "\n",
       "   principal component 4  principal component 5  \n",
       "0               0.043740               0.067014  \n",
       "1               0.548066              -0.018392  \n",
       "2               0.411021              -0.043531  \n",
       "3              -0.928450              -1.499149  \n",
       "4               0.043740               0.067014  "
      ]
     },
     "execution_count": 51,
     "metadata": {},
     "output_type": "execute_result"
    }
   ],
   "source": [
    "principalDf.head()"
   ]
  }
 ],
 "metadata": {
  "kernelspec": {
   "display_name": "Python 3",
   "language": "python",
   "name": "python3"
  },
  "language_info": {
   "codemirror_mode": {
    "name": "ipython",
    "version": 3
   },
   "file_extension": ".py",
   "mimetype": "text/x-python",
   "name": "python",
   "nbconvert_exporter": "python",
   "pygments_lexer": "ipython3",
   "version": "3.7.1"
  }
 },
 "nbformat": 4,
 "nbformat_minor": 2
}
